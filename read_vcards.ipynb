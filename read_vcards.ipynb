{
 "cells": [
  {
   "cell_type": "code",
   "execution_count": 1,
   "metadata": {
    "collapsed": true
   },
   "outputs": [],
   "source": [
    "import os\n",
    "import base64\n",
    "from PIL import Image\n",
    "from PIL import ImageFont\n",
    "from PIL import ImageDraw "
   ]
  },
  {
   "cell_type": "code",
   "execution_count": 2,
   "metadata": {
    "collapsed": false
   },
   "outputs": [],
   "source": [
    "file = \"vcard_test.vcf\"\n",
    "with open(file, encoding=\"utf8\") as f:  \n",
    "    data = f.readlines()"
   ]
  },
  {
   "cell_type": "code",
   "execution_count": 3,
   "metadata": {
    "collapsed": false
   },
   "outputs": [],
   "source": [
    "def get_vcards(lines) :\n",
    "    all_vcards = list()\n",
    "    total_cards = 0\n",
    "    inside_card = False\n",
    "    inside_photo = False\n",
    "    photo_data = ''\n",
    "    \n",
    "    for line in lines:\n",
    "        if \":\" in line:  # parameter line \n",
    "            \n",
    "            if inside_photo :  \n",
    "                imgdata = base64.b64decode(photo_data)\n",
    "                filename = (vcard['name']+'.jpg').replace(' ', '_') \n",
    "                with open(filename, 'wb') as f:\n",
    "                     f.write(imgdata)\n",
    "                vcard[\"photo\"] = filename               \n",
    "                photo_data =''\n",
    "                inside_photo = False\n",
    "                \n",
    "            param, value = line.strip().split(':')\n",
    "            \n",
    "            if (\"BEGIN\" in param ):\n",
    "                vcard = {\"name\":\"\", \"org\":\"\", \"tel\":\"\", \"email\":\"\", \"photo\":\"\" }\n",
    "                inside_photo = False\n",
    "                photo_data = ''\n",
    "                inside_card = True\n",
    "                continue\n",
    "            if inside_card and (\"END\" in param) :\n",
    "                all_vcards.append(vcard)\n",
    "                inside_card = False\n",
    "                total_cards +=1\n",
    "                continue\n",
    "            if inside_card and (\"FN\" in param) :\n",
    "                vcard[\"name\"] = value\n",
    "                continue\n",
    "            if inside_card and (\"ORG\" in param) :\n",
    "                vcard[\"org\"], *_ = value.split(\";\")\n",
    "                continue\n",
    "            if inside_card and (\"TEL\" in param) :\n",
    "                if vcard.get(\"tel\") == \"\" :\n",
    "                    vcard[\"tel\"] = value\n",
    "                continue\n",
    "            if inside_card and (\"EMAIL\" in param) :\n",
    "                if vcard.get(\"email\") == \"\" :\n",
    "                    vcard[\"email\"] = value\n",
    "                continue  \n",
    "            if inside_card and (\"PHOTO\" in param) : # ignore encoding & type parameters\n",
    "                inside_photo = True\n",
    "                photo_data += value\n",
    "        elif inside_photo : # raw data line\n",
    "            photo_data += line.strip()\n",
    "            continue\n",
    "        else:\n",
    "            continue\n",
    "        \n",
    "    print(\"downloaded {} vcards\".format(total_cards))\n",
    "    return all_vcards"
   ]
  },
  {
   "cell_type": "code",
   "execution_count": 4,
   "metadata": {
    "collapsed": false
   },
   "outputs": [
    {
     "name": "stdout",
     "output_type": "stream",
     "text": [
      "downloaded 3 vcards\n"
     ]
    }
   ],
   "source": [
    "vcard_list = get_vcards(data)"
   ]
  },
  {
   "cell_type": "code",
   "execution_count": 5,
   "metadata": {
    "collapsed": false,
    "scrolled": true
   },
   "outputs": [
    {
     "name": "stdout",
     "output_type": "stream",
     "text": [
      "{'org': 'Organization West Company', 'photo': 'JackTest_SparrowLast.jpg', 'name': 'JackTest SparrowLast', 'email': 'jacksparrowtest@gmail.com', 'tel': '222 234 2344'}\n",
      "{'org': 'Organization West Company', 'photo': 'JackTest2_SparrowLast2.jpg', 'name': 'JackTest2 SparrowLast2', 'email': 'jacksparrowtest@gmail.com', 'tel': '222 234 2344'}\n",
      "{'org': 'Organization West Company', 'photo': 'JackTest3_SparrowLast3.jpg', 'name': 'JackTest3 SparrowLast3', 'email': 'jacksparrowtest@gmail.com', 'tel': '222 234 2344'}\n"
     ]
    }
   ],
   "source": [
    "for v in vcard_list :\n",
    "    print(v)"
   ]
  },
  {
   "cell_type": "code",
   "execution_count": 6,
   "metadata": {
    "collapsed": false
   },
   "outputs": [],
   "source": [
    "X = 154\n",
    "OFF = 20\n",
    "y_name = OFF+10\n",
    "y_org = OFF+30\n",
    "y_tel = OFF+50\n",
    "y_email = OFF+70\n",
    "small_size = (146,196)\n",
    "pic_offset = (2,2)\n",
    "text_color = (0,0,0)\n",
    "background_color = (255, 255, 255, 255)\n",
    "\n",
    "for v in vcard_list :\n",
    "    background = Image.new('RGBA', (350, 200), background_color ) #current size is 350x200\n",
    "    draw = ImageDraw.Draw(background)\n",
    "    \n",
    "    font = ImageFont.truetype(\"Roboto-Regular.ttf\", 12) # font = ImageFont.truetype(<font-file>, <font-size>)\n",
    "    \n",
    "    draw.text((X, y_name),v['name'], text_color, font=font) # draw.text((x, y),\"Sample Text\",(r,g,b))\n",
    "    draw.text((X, y_org),v['org'], text_color, font=font)\n",
    "    draw.text((X, y_tel),v['tel'], text_color, font=font)\n",
    "    draw.text((X, y_email),v['email'], text_color, font=font)\n",
    "    \n",
    "    if v['photo'] != '' :\n",
    "        img = Image.open(v['photo'], 'r')\n",
    "        small_img = img.resize(small_size)\n",
    "        background.paste(small_img, pic_offset)\n",
    "        # os.remove(v['photo'])   # we can remove jpg files with original pictures from vcards\n",
    "        \n",
    "    background.save( (v['name']+'.png').replace(' ', '_') )\n",
    "   "
   ]
  },
  {
   "cell_type": "code",
   "execution_count": null,
   "metadata": {
    "collapsed": true
   },
   "outputs": [],
   "source": []
  }
 ],
 "metadata": {
  "kernelspec": {
   "display_name": "Python [default]",
   "language": "python",
   "name": "python3"
  },
  "language_info": {
   "codemirror_mode": {
    "name": "ipython",
    "version": 3
   },
   "file_extension": ".py",
   "mimetype": "text/x-python",
   "name": "python",
   "nbconvert_exporter": "python",
   "pygments_lexer": "ipython3",
   "version": "3.5.2"
  }
 },
 "nbformat": 4,
 "nbformat_minor": 2
}
