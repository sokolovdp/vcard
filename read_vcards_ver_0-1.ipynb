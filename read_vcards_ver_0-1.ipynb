{
 "cells": [
  {
   "cell_type": "code",
   "execution_count": 1,
   "metadata": {
    "collapsed": true
   },
   "outputs": [],
   "source": [
    "import os\n",
    "import base64\n",
    "from PIL import Image\n",
    "from PIL import ImageFont\n",
    "from PIL import ImageDraw "
   ]
  },
  {
   "cell_type": "code",
   "execution_count": 2,
   "metadata": {
    "collapsed": true
   },
   "outputs": [],
   "source": [
    "temp_thumb_file = 'thumbnail_tmp.jpg'\n",
    "X = 154\n",
    "Y = 20\n",
    "OFF = 20\n",
    "small_size = (146,196)\n",
    "thumb_size = (350, 200)\n",
    "pic_offset = (2,2)\n",
    "text_color = (0,0,0)\n",
    "background_color = (255, 255, 255, 255)\n",
    "font_size = 10\n",
    "font_file = \"Roboto-Regular.ttf\""
   ]
  },
  {
   "cell_type": "code",
   "execution_count": 3,
   "metadata": {
    "collapsed": true
   },
   "outputs": [],
   "source": [
    "def load_vcards(lines) : # form list of lines for each vcard, begin line excluded\n",
    "    all_cards = list()\n",
    "    card_lines = list()\n",
    "    inside_card = False\n",
    "    \n",
    "    for line in lines:\n",
    "        if \":\" in line:  # parameter line \n",
    "            param, value = line.strip().split(':')\n",
    "            if (\"BEGIN\" in param ):\n",
    "                if not inside_card :\n",
    "                    inside_card = True\n",
    "                    #card_lines.append(line) \n",
    "                else :\n",
    "                    print(\"invalid vcard format: END line missing\")\n",
    "                    return None\n",
    "            elif (\"END\" in param) :\n",
    "                if inside_card :\n",
    "                    card_lines.append(line)\n",
    "                    all_cards.append(card_lines)\n",
    "                    card_lines = list()\n",
    "                    inside_card = False\n",
    "                else :\n",
    "                    print(\"invalid vcard format: END line before BEGIN line\")\n",
    "                    return None\n",
    "            else:\n",
    "                card_lines.append(line)\n",
    "        elif inside_card:\n",
    "            card_lines.append(line)\n",
    "        else :\n",
    "            continue\n",
    "    \n",
    "    return all_cards"
   ]
  },
  {
   "cell_type": "code",
   "execution_count": 4,
   "metadata": {
    "collapsed": true
   },
   "outputs": [],
   "source": [
    "def decode_data(index, lines, pars, value) :\n",
    "   \n",
    "    photo_data = value\n",
    "    \n",
    "    for line in lines[index+1:] :\n",
    "        if \"END:VCARD\" in line :\n",
    "            break\n",
    "        else :\n",
    "            photo_data += line.strip()\n",
    "    \n",
    "    # we ignore parameters of encoding in pars list\n",
    "    \n",
    "    imgdata = base64.b64decode(photo_data)\n",
    "    with open(temp_thumb_file, 'wb') as f:\n",
    "        f.write(imgdata)\n",
    "        \n",
    "    return temp_thumb_file"
   ]
  },
  {
   "cell_type": "code",
   "execution_count": 5,
   "metadata": {
    "collapsed": false
   },
   "outputs": [],
   "source": [
    "def get_photo(card_lines) :\n",
    "    \n",
    "    photo_file = ''\n",
    "    \n",
    "    for index, line in enumerate(card_lines): # process others parameters\n",
    "        if \":\" in line:  # parameter line \n",
    "            param, value = line.strip().split(':')\n",
    "            p, *p_var = param.split(';')\n",
    "            if p == 'PHOTO' :\n",
    "                if 'http' in value.lower():\n",
    "                    # download photo from inet\n",
    "                     break\n",
    "                else:\n",
    "                    # data is in the list, so we have to decode them\n",
    "                    photo_file = decode_data(index, card_lines, p_var, value)\n",
    "                    break\n",
    "     \n",
    "    return photo_file"
   ]
  },
  {
   "cell_type": "code",
   "execution_count": 6,
   "metadata": {
    "collapsed": false
   },
   "outputs": [],
   "source": [
    "def create_thumbnail(params, card_data) :\n",
    "\n",
    "    background = Image.new('RGBA', thumb_size , background_color ) #current size is 350x200\n",
    "    draw = ImageDraw.Draw(background)\n",
    "    font = ImageFont.truetype(font_file, font_size) # font = ImageFont.truetype(<font-file>, <font-size>)\n",
    "    \n",
    "    if ('PHOTO' in params) and (card_data['PHOTO'] != '') :\n",
    "        img = Image.open(card_data['PHOTO'], 'r')\n",
    "        small_img = img.resize(small_size)\n",
    "        background.paste(small_img, pic_offset)\n",
    "        \n",
    "    offset = Y\n",
    "    for par in params:\n",
    "        if par != 'PHOTO' :\n",
    "            draw.text((X, offset), par+':  '+card_data[par], text_color, font=font)\n",
    "            offset += OFF\n",
    "           \n",
    "    background.save( ( card_data['FN']+'.png').replace(' ', '_') )\n",
    "   "
   ]
  },
  {
   "cell_type": "code",
   "execution_count": 7,
   "metadata": {
    "collapsed": false
   },
   "outputs": [],
   "source": [
    "def card_to_thumbnail(card_lines, params=['FN', 'TITLE', 'ORG', 'ADR',  'TEL', 'EMAIL', 'URL', 'PHOTO']): \n",
    "    \n",
    "    card_data = dict()\n",
    "   \n",
    "    if 'PHOTO' in params :  # process PHOTO parameter if present\n",
    "        card_data['PHOTO'] = result = get_photo(card_lines)\n",
    "        if result == '' :\n",
    "            print (\"unable to load PHOTO data, parameter ignored\")\n",
    "    \n",
    "    for line in card_lines: # process others parameters\n",
    "        if \":\" in line:  # parameter line \n",
    "            param, value = line.strip().split(':')\n",
    "            p1, *_ = param.split(';')\n",
    "            if (p1 in params) and (p1 not in card_data) :\n",
    "                card_data[p1], *_ = value.strip().split(\";\")\n",
    "                # card_data[p1], *_ = \" \".join(value.split(';')).strip()\n",
    "                       \n",
    "    create_thumbnail(params, card_data)\n",
    "    "
   ]
  },
  {
   "cell_type": "code",
   "execution_count": 8,
   "metadata": {
    "collapsed": false
   },
   "outputs": [],
   "source": [
    "def main() :\n",
    "    file = \"vcard_test.vcf\"\n",
    "    with open(file, encoding=\"utf8\") as f:  \n",
    "        data = f.readlines()\n",
    "        \n",
    "    list_of_cards = load_vcards(data)\n",
    "    if (list_of_cards) :\n",
    "        for card in list_of_cards :\n",
    "            card_to_thumbnail(card)\n",
    "        print(\"loaded {} vcards\".format(len(list_of_cards)) )\n",
    "    \n",
    "    os.remove(temp_thumb_file)   # remove temporal jpg file"
   ]
  },
  {
   "cell_type": "code",
   "execution_count": 9,
   "metadata": {
    "collapsed": false
   },
   "outputs": [
    {
     "name": "stdout",
     "output_type": "stream",
     "text": [
      "loaded 3 vcards\n"
     ]
    }
   ],
   "source": [
    "if __name__ == '__main__':\n",
    "    main()"
   ]
  }
 ],
 "metadata": {
  "kernelspec": {
   "display_name": "Python [default]",
   "language": "python",
   "name": "python3"
  },
  "language_info": {
   "codemirror_mode": {
    "name": "ipython",
    "version": 3
   },
   "file_extension": ".py",
   "mimetype": "text/x-python",
   "name": "python",
   "nbconvert_exporter": "python",
   "pygments_lexer": "ipython3",
   "version": "3.5.2"
  }
 },
 "nbformat": 4,
 "nbformat_minor": 2
}
